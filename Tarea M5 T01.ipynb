{
 "cells": [
  {
   "cell_type": "markdown",
   "id": "d2eb20f1",
   "metadata": {},
   "source": [
    "# Ejercicio 1"
   ]
  },
  {
   "cell_type": "markdown",
   "id": "4478fed6",
   "metadata": {},
   "source": [
    "Mediante el dataset de datos oficiales de la UEFA, seleccionar un atributo del conjunto de datos, calcular el p-valor, y decir si se rechaza la hipótesis nula tomando un nivel de significación, alfa, del 5%."
   ]
  },
  {
   "cell_type": "markdown",
   "id": "a9a22c0e",
   "metadata": {},
   "source": [
    "Lo que podemos aplicar a un solo atributo es, por ejemplo, el averiguar si cumple o no una distribución normal (u otra distribución, para el caso).\n",
    "De todos modos, comencemos explorando un poco los datos."
   ]
  },
  {
   "cell_type": "code",
   "execution_count": 64,
   "id": "f0433238",
   "metadata": {},
   "outputs": [],
   "source": [
    "import pandas as pd\n",
    "import numpy as np\n",
    "# import matplotlib as plt\n",
    "import seaborn as sns\n",
    "from scipy.stats import pearsonr\n",
    "from scipy.stats import spearmanr\n",
    "import scipy.stats as stats\n",
    "import matplotlib.pyplot as plt\n",
    "import matplotlib.ticker as ticker\n"
   ]
  },
  {
   "cell_type": "code",
   "execution_count": 2,
   "id": "cb822d0c",
   "metadata": {},
   "outputs": [],
   "source": [
    "dataset_UEFA = pd.read_csv(r'Lligues europees UEFA.csv', encoding = 'ANSI', sep=';')"
   ]
  },
  {
   "cell_type": "code",
   "execution_count": 3,
   "id": "6ff19e80",
   "metadata": {},
   "outputs": [],
   "source": [
    "pd.set_option('display.max_columns', None)"
   ]
  },
  {
   "cell_type": "code",
   "execution_count": 4,
   "id": "3f1a35d3",
   "metadata": {},
   "outputs": [
    {
     "data": {
      "text/html": [
       "<div>\n",
       "<style scoped>\n",
       "    .dataframe tbody tr th:only-of-type {\n",
       "        vertical-align: middle;\n",
       "    }\n",
       "\n",
       "    .dataframe tbody tr th {\n",
       "        vertical-align: top;\n",
       "    }\n",
       "\n",
       "    .dataframe thead th {\n",
       "        text-align: right;\n",
       "    }\n",
       "</style>\n",
       "<table border=\"1\" class=\"dataframe\">\n",
       "  <thead>\n",
       "    <tr style=\"text-align: right;\">\n",
       "      <th></th>\n",
       "      <th>Rk</th>\n",
       "      <th>Squad</th>\n",
       "      <th>Country</th>\n",
       "      <th>LgRk</th>\n",
       "      <th>MP</th>\n",
       "      <th>W</th>\n",
       "      <th>D</th>\n",
       "      <th>L</th>\n",
       "      <th>GF</th>\n",
       "      <th>GA</th>\n",
       "      <th>GD</th>\n",
       "      <th>Pts</th>\n",
       "      <th>Pts/G</th>\n",
       "      <th>xG</th>\n",
       "      <th>xGA</th>\n",
       "      <th>xGD</th>\n",
       "      <th>xGD/90</th>\n",
       "      <th>Last 5</th>\n",
       "      <th>Attendance</th>\n",
       "      <th>Top Team Scorer</th>\n",
       "      <th>Goalkeeper</th>\n",
       "    </tr>\n",
       "  </thead>\n",
       "  <tbody>\n",
       "    <tr>\n",
       "      <th>0</th>\n",
       "      <td>1</td>\n",
       "      <td>Manchester City</td>\n",
       "      <td>ENG</td>\n",
       "      <td>1</td>\n",
       "      <td>37</td>\n",
       "      <td>28</td>\n",
       "      <td>6</td>\n",
       "      <td>3</td>\n",
       "      <td>96</td>\n",
       "      <td>24</td>\n",
       "      <td>72</td>\n",
       "      <td>90</td>\n",
       "      <td>2.43</td>\n",
       "      <td>86.1</td>\n",
       "      <td>26.8</td>\n",
       "      <td>59.3</td>\n",
       "      <td>1.60</td>\n",
       "      <td>W W W W D</td>\n",
       "      <td>52739</td>\n",
       "      <td>Kevin De Bruyne - 15</td>\n",
       "      <td>Ederson</td>\n",
       "    </tr>\n",
       "    <tr>\n",
       "      <th>1</th>\n",
       "      <td>2</td>\n",
       "      <td>Liverpool</td>\n",
       "      <td>ENG</td>\n",
       "      <td>2</td>\n",
       "      <td>36</td>\n",
       "      <td>26</td>\n",
       "      <td>8</td>\n",
       "      <td>2</td>\n",
       "      <td>89</td>\n",
       "      <td>24</td>\n",
       "      <td>65</td>\n",
       "      <td>86</td>\n",
       "      <td>2.39</td>\n",
       "      <td>84.6</td>\n",
       "      <td>33.1</td>\n",
       "      <td>51.4</td>\n",
       "      <td>1.43</td>\n",
       "      <td>W W W D W</td>\n",
       "      <td>53367</td>\n",
       "      <td>Mohamed Salah - 22</td>\n",
       "      <td>Alisson</td>\n",
       "    </tr>\n",
       "    <tr>\n",
       "      <th>2</th>\n",
       "      <td>3</td>\n",
       "      <td>Real Madrid</td>\n",
       "      <td>ESP</td>\n",
       "      <td>1</td>\n",
       "      <td>37</td>\n",
       "      <td>26</td>\n",
       "      <td>7</td>\n",
       "      <td>4</td>\n",
       "      <td>80</td>\n",
       "      <td>31</td>\n",
       "      <td>49</td>\n",
       "      <td>85</td>\n",
       "      <td>2.30</td>\n",
       "      <td>73.0</td>\n",
       "      <td>45.8</td>\n",
       "      <td>27.2</td>\n",
       "      <td>0.73</td>\n",
       "      <td>W W L W D</td>\n",
       "      <td>40624</td>\n",
       "      <td>Karim Benzema - 27</td>\n",
       "      <td>Thibaut Courtois</td>\n",
       "    </tr>\n",
       "    <tr>\n",
       "      <th>3</th>\n",
       "      <td>4</td>\n",
       "      <td>Bayern Munich</td>\n",
       "      <td>GER</td>\n",
       "      <td>1</td>\n",
       "      <td>34</td>\n",
       "      <td>24</td>\n",
       "      <td>5</td>\n",
       "      <td>5</td>\n",
       "      <td>97</td>\n",
       "      <td>37</td>\n",
       "      <td>60</td>\n",
       "      <td>77</td>\n",
       "      <td>2.26</td>\n",
       "      <td>88.1</td>\n",
       "      <td>37.1</td>\n",
       "      <td>51.0</td>\n",
       "      <td>1.50</td>\n",
       "      <td>W W L D D</td>\n",
       "      <td>33176</td>\n",
       "      <td>Robert Lewandowski - 35</td>\n",
       "      <td>Manuel Neuer</td>\n",
       "    </tr>\n",
       "    <tr>\n",
       "      <th>4</th>\n",
       "      <td>5</td>\n",
       "      <td>Paris S-G</td>\n",
       "      <td>FRA</td>\n",
       "      <td>1</td>\n",
       "      <td>37</td>\n",
       "      <td>25</td>\n",
       "      <td>8</td>\n",
       "      <td>4</td>\n",
       "      <td>85</td>\n",
       "      <td>36</td>\n",
       "      <td>49</td>\n",
       "      <td>83</td>\n",
       "      <td>2.24</td>\n",
       "      <td>71.6</td>\n",
       "      <td>38.1</td>\n",
       "      <td>33.4</td>\n",
       "      <td>0.90</td>\n",
       "      <td>W D D D W</td>\n",
       "      <td>41188</td>\n",
       "      <td>Kylian Mbappé - 25</td>\n",
       "      <td>Keylor Navas</td>\n",
       "    </tr>\n",
       "  </tbody>\n",
       "</table>\n",
       "</div>"
      ],
      "text/plain": [
       "   Rk            Squad Country  LgRk  MP   W  D  L  GF  GA  GD  Pts  Pts/G  \\\n",
       "0   1  Manchester City     ENG     1  37  28  6  3  96  24  72   90   2.43   \n",
       "1   2        Liverpool     ENG     2  36  26  8  2  89  24  65   86   2.39   \n",
       "2   3      Real Madrid     ESP     1  37  26  7  4  80  31  49   85   2.30   \n",
       "3   4    Bayern Munich     GER     1  34  24  5  5  97  37  60   77   2.26   \n",
       "4   5        Paris S-G     FRA     1  37  25  8  4  85  36  49   83   2.24   \n",
       "\n",
       "     xG   xGA   xGD  xGD/90     Last 5  Attendance          Top Team Scorer  \\\n",
       "0  86.1  26.8  59.3    1.60  W W W W D       52739     Kevin De Bruyne - 15   \n",
       "1  84.6  33.1  51.4    1.43  W W W D W       53367       Mohamed Salah - 22   \n",
       "2  73.0  45.8  27.2    0.73  W W L W D       40624       Karim Benzema - 27   \n",
       "3  88.1  37.1  51.0    1.50  W W L D D       33176  Robert Lewandowski - 35   \n",
       "4  71.6  38.1  33.4    0.90  W D D D W       41188       Kylian Mbappé - 25   \n",
       "\n",
       "         Goalkeeper  \n",
       "0           Ederson  \n",
       "1           Alisson  \n",
       "2  Thibaut Courtois  \n",
       "3      Manuel Neuer  \n",
       "4      Keylor Navas  "
      ]
     },
     "execution_count": 4,
     "metadata": {},
     "output_type": "execute_result"
    }
   ],
   "source": [
    "dataset_UEFA.head()"
   ]
  },
  {
   "cell_type": "code",
   "execution_count": 5,
   "id": "bf06bb92",
   "metadata": {},
   "outputs": [
    {
     "data": {
      "text/html": [
       "<div>\n",
       "<style scoped>\n",
       "    .dataframe tbody tr th:only-of-type {\n",
       "        vertical-align: middle;\n",
       "    }\n",
       "\n",
       "    .dataframe tbody tr th {\n",
       "        vertical-align: top;\n",
       "    }\n",
       "\n",
       "    .dataframe thead th {\n",
       "        text-align: right;\n",
       "    }\n",
       "</style>\n",
       "<table border=\"1\" class=\"dataframe\">\n",
       "  <thead>\n",
       "    <tr style=\"text-align: right;\">\n",
       "      <th></th>\n",
       "      <th>Rk</th>\n",
       "      <th>Squad</th>\n",
       "      <th>Country</th>\n",
       "      <th>LgRk</th>\n",
       "      <th>MP</th>\n",
       "      <th>W</th>\n",
       "      <th>D</th>\n",
       "      <th>L</th>\n",
       "      <th>GF</th>\n",
       "      <th>GA</th>\n",
       "      <th>GD</th>\n",
       "      <th>Pts</th>\n",
       "      <th>Pts/G</th>\n",
       "      <th>xG</th>\n",
       "      <th>xGA</th>\n",
       "      <th>xGD</th>\n",
       "      <th>xGD/90</th>\n",
       "      <th>Last 5</th>\n",
       "      <th>Attendance</th>\n",
       "      <th>Top Team Scorer</th>\n",
       "      <th>Goalkeeper</th>\n",
       "    </tr>\n",
       "  </thead>\n",
       "  <tbody>\n",
       "    <tr>\n",
       "      <th>93</th>\n",
       "      <td>94</td>\n",
       "      <td>Bordeaux</td>\n",
       "      <td>FRA</td>\n",
       "      <td>20</td>\n",
       "      <td>37</td>\n",
       "      <td>5</td>\n",
       "      <td>13</td>\n",
       "      <td>19</td>\n",
       "      <td>48</td>\n",
       "      <td>89</td>\n",
       "      <td>-41</td>\n",
       "      <td>28</td>\n",
       "      <td>0.76</td>\n",
       "      <td>41.3</td>\n",
       "      <td>68.5</td>\n",
       "      <td>-27.2</td>\n",
       "      <td>-0.73</td>\n",
       "      <td>D L L L D</td>\n",
       "      <td>22083</td>\n",
       "      <td>Hwang Ui-jo - 11</td>\n",
       "      <td>Benoît Costil</td>\n",
       "    </tr>\n",
       "    <tr>\n",
       "      <th>94</th>\n",
       "      <td>95</td>\n",
       "      <td>Venezia</td>\n",
       "      <td>ITA</td>\n",
       "      <td>20</td>\n",
       "      <td>37</td>\n",
       "      <td>6</td>\n",
       "      <td>8</td>\n",
       "      <td>23</td>\n",
       "      <td>34</td>\n",
       "      <td>69</td>\n",
       "      <td>-35</td>\n",
       "      <td>26</td>\n",
       "      <td>0.70</td>\n",
       "      <td>35.4</td>\n",
       "      <td>70.5</td>\n",
       "      <td>-35.1</td>\n",
       "      <td>-0.95</td>\n",
       "      <td>L L L W D</td>\n",
       "      <td>6705</td>\n",
       "      <td>Thomas Henry - 9</td>\n",
       "      <td>Sergio Romero</td>\n",
       "    </tr>\n",
       "    <tr>\n",
       "      <th>95</th>\n",
       "      <td>96</td>\n",
       "      <td>Watford</td>\n",
       "      <td>ENG</td>\n",
       "      <td>19</td>\n",
       "      <td>37</td>\n",
       "      <td>6</td>\n",
       "      <td>5</td>\n",
       "      <td>26</td>\n",
       "      <td>33</td>\n",
       "      <td>75</td>\n",
       "      <td>-42</td>\n",
       "      <td>23</td>\n",
       "      <td>0.62</td>\n",
       "      <td>37.8</td>\n",
       "      <td>64.1</td>\n",
       "      <td>-26.3</td>\n",
       "      <td>-0.71</td>\n",
       "      <td>L L L D L</td>\n",
       "      <td>20614</td>\n",
       "      <td>Emmanuel Dennis - 10</td>\n",
       "      <td>Ben Foster</td>\n",
       "    </tr>\n",
       "    <tr>\n",
       "      <th>96</th>\n",
       "      <td>97</td>\n",
       "      <td>Norwich City</td>\n",
       "      <td>ENG</td>\n",
       "      <td>20</td>\n",
       "      <td>37</td>\n",
       "      <td>5</td>\n",
       "      <td>7</td>\n",
       "      <td>25</td>\n",
       "      <td>23</td>\n",
       "      <td>79</td>\n",
       "      <td>-56</td>\n",
       "      <td>22</td>\n",
       "      <td>0.59</td>\n",
       "      <td>33.0</td>\n",
       "      <td>73.3</td>\n",
       "      <td>-40.4</td>\n",
       "      <td>-1.09</td>\n",
       "      <td>L L L L D</td>\n",
       "      <td>26826</td>\n",
       "      <td>Teemu Pukki - 11</td>\n",
       "      <td>Tim Krul</td>\n",
       "    </tr>\n",
       "    <tr>\n",
       "      <th>97</th>\n",
       "      <td>98</td>\n",
       "      <td>Greuther Fürth</td>\n",
       "      <td>GER</td>\n",
       "      <td>18</td>\n",
       "      <td>34</td>\n",
       "      <td>3</td>\n",
       "      <td>9</td>\n",
       "      <td>22</td>\n",
       "      <td>28</td>\n",
       "      <td>82</td>\n",
       "      <td>-54</td>\n",
       "      <td>18</td>\n",
       "      <td>0.53</td>\n",
       "      <td>30.7</td>\n",
       "      <td>60.3</td>\n",
       "      <td>-29.6</td>\n",
       "      <td>-0.87</td>\n",
       "      <td>D L D L L</td>\n",
       "      <td>7672</td>\n",
       "      <td>Branimir Hrgota - 9</td>\n",
       "      <td>Sascha Burchert</td>\n",
       "    </tr>\n",
       "  </tbody>\n",
       "</table>\n",
       "</div>"
      ],
      "text/plain": [
       "    Rk           Squad Country  LgRk  MP  W   D   L  GF  GA  GD  Pts  Pts/G  \\\n",
       "93  94        Bordeaux     FRA    20  37  5  13  19  48  89 -41   28   0.76   \n",
       "94  95         Venezia     ITA    20  37  6   8  23  34  69 -35   26   0.70   \n",
       "95  96         Watford     ENG    19  37  6   5  26  33  75 -42   23   0.62   \n",
       "96  97    Norwich City     ENG    20  37  5   7  25  23  79 -56   22   0.59   \n",
       "97  98  Greuther Fürth     GER    18  34  3   9  22  28  82 -54   18   0.53   \n",
       "\n",
       "      xG   xGA   xGD  xGD/90     Last 5  Attendance       Top Team Scorer  \\\n",
       "93  41.3  68.5 -27.2   -0.73  D L L L D       22083      Hwang Ui-jo - 11   \n",
       "94  35.4  70.5 -35.1   -0.95  L L L W D        6705      Thomas Henry - 9   \n",
       "95  37.8  64.1 -26.3   -0.71  L L L D L       20614  Emmanuel Dennis - 10   \n",
       "96  33.0  73.3 -40.4   -1.09  L L L L D       26826      Teemu Pukki - 11   \n",
       "97  30.7  60.3 -29.6   -0.87  D L D L L        7672   Branimir Hrgota - 9   \n",
       "\n",
       "         Goalkeeper  \n",
       "93    Benoît Costil  \n",
       "94    Sergio Romero  \n",
       "95       Ben Foster  \n",
       "96         Tim Krul  \n",
       "97  Sascha Burchert  "
      ]
     },
     "execution_count": 5,
     "metadata": {},
     "output_type": "execute_result"
    }
   ],
   "source": [
    "dataset_UEFA.tail()"
   ]
  },
  {
   "cell_type": "markdown",
   "id": "e1ae76fb",
   "metadata": {},
   "source": [
    "Tenemos 98 equipos que participan de la (entiendo yo) liguilla de la UEFA, y lo que tenemos son fundamentalmente los resultados obtenidos durante la competición."
   ]
  },
  {
   "cell_type": "code",
   "execution_count": 6,
   "id": "43b68ff8",
   "metadata": {},
   "outputs": [
    {
     "data": {
      "text/html": [
       "<div>\n",
       "<style scoped>\n",
       "    .dataframe tbody tr th:only-of-type {\n",
       "        vertical-align: middle;\n",
       "    }\n",
       "\n",
       "    .dataframe tbody tr th {\n",
       "        vertical-align: top;\n",
       "    }\n",
       "\n",
       "    .dataframe thead th {\n",
       "        text-align: right;\n",
       "    }\n",
       "</style>\n",
       "<table border=\"1\" class=\"dataframe\">\n",
       "  <thead>\n",
       "    <tr style=\"text-align: right;\">\n",
       "      <th></th>\n",
       "      <th>Rk</th>\n",
       "      <th>LgRk</th>\n",
       "      <th>MP</th>\n",
       "      <th>W</th>\n",
       "      <th>D</th>\n",
       "      <th>L</th>\n",
       "      <th>GF</th>\n",
       "      <th>GA</th>\n",
       "      <th>GD</th>\n",
       "      <th>Pts</th>\n",
       "      <th>Pts/G</th>\n",
       "      <th>xG</th>\n",
       "      <th>xGA</th>\n",
       "      <th>xGD</th>\n",
       "      <th>xGD/90</th>\n",
       "      <th>Attendance</th>\n",
       "    </tr>\n",
       "  </thead>\n",
       "  <tbody>\n",
       "    <tr>\n",
       "      <th>count</th>\n",
       "      <td>98.000000</td>\n",
       "      <td>98.000000</td>\n",
       "      <td>98.000000</td>\n",
       "      <td>98.000000</td>\n",
       "      <td>98.000000</td>\n",
       "      <td>98.00000</td>\n",
       "      <td>98.000000</td>\n",
       "      <td>98.000000</td>\n",
       "      <td>98.000000</td>\n",
       "      <td>98.000000</td>\n",
       "      <td>98.000000</td>\n",
       "      <td>98.000000</td>\n",
       "      <td>98.000000</td>\n",
       "      <td>98.000000</td>\n",
       "      <td>98.000000</td>\n",
       "      <td>98.000000</td>\n",
       "    </tr>\n",
       "    <tr>\n",
       "      <th>mean</th>\n",
       "      <td>49.500000</td>\n",
       "      <td>10.316327</td>\n",
       "      <td>36.306122</td>\n",
       "      <td>13.448980</td>\n",
       "      <td>9.408163</td>\n",
       "      <td>13.44898</td>\n",
       "      <td>50.877551</td>\n",
       "      <td>50.877551</td>\n",
       "      <td>0.000000</td>\n",
       "      <td>49.734694</td>\n",
       "      <td>1.370204</td>\n",
       "      <td>48.653061</td>\n",
       "      <td>48.645918</td>\n",
       "      <td>-0.005102</td>\n",
       "      <td>0.000918</td>\n",
       "      <td>24239.857143</td>\n",
       "    </tr>\n",
       "    <tr>\n",
       "      <th>std</th>\n",
       "      <td>28.434134</td>\n",
       "      <td>5.706926</td>\n",
       "      <td>1.152390</td>\n",
       "      <td>5.747474</td>\n",
       "      <td>2.903381</td>\n",
       "      <td>5.12347</td>\n",
       "      <td>16.102933</td>\n",
       "      <td>13.634602</td>\n",
       "      <td>26.501896</td>\n",
       "      <td>16.166371</td>\n",
       "      <td>0.443903</td>\n",
       "      <td>12.453950</td>\n",
       "      <td>9.812481</td>\n",
       "      <td>19.992506</td>\n",
       "      <td>0.551414</td>\n",
       "      <td>14874.171842</td>\n",
       "    </tr>\n",
       "    <tr>\n",
       "      <th>min</th>\n",
       "      <td>1.000000</td>\n",
       "      <td>1.000000</td>\n",
       "      <td>34.000000</td>\n",
       "      <td>3.000000</td>\n",
       "      <td>3.000000</td>\n",
       "      <td>2.00000</td>\n",
       "      <td>23.000000</td>\n",
       "      <td>24.000000</td>\n",
       "      <td>-56.000000</td>\n",
       "      <td>18.000000</td>\n",
       "      <td>0.530000</td>\n",
       "      <td>28.200000</td>\n",
       "      <td>26.800000</td>\n",
       "      <td>-40.400000</td>\n",
       "      <td>-1.090000</td>\n",
       "      <td>5870.000000</td>\n",
       "    </tr>\n",
       "    <tr>\n",
       "      <th>25%</th>\n",
       "      <td>25.250000</td>\n",
       "      <td>5.250000</td>\n",
       "      <td>36.000000</td>\n",
       "      <td>9.000000</td>\n",
       "      <td>7.000000</td>\n",
       "      <td>10.00000</td>\n",
       "      <td>39.000000</td>\n",
       "      <td>40.000000</td>\n",
       "      <td>-17.750000</td>\n",
       "      <td>37.000000</td>\n",
       "      <td>1.000000</td>\n",
       "      <td>39.100000</td>\n",
       "      <td>41.300000</td>\n",
       "      <td>-13.575000</td>\n",
       "      <td>-0.365000</td>\n",
       "      <td>12355.500000</td>\n",
       "    </tr>\n",
       "    <tr>\n",
       "      <th>50%</th>\n",
       "      <td>49.500000</td>\n",
       "      <td>10.000000</td>\n",
       "      <td>37.000000</td>\n",
       "      <td>13.000000</td>\n",
       "      <td>9.000000</td>\n",
       "      <td>13.00000</td>\n",
       "      <td>47.000000</td>\n",
       "      <td>50.000000</td>\n",
       "      <td>-1.000000</td>\n",
       "      <td>46.000000</td>\n",
       "      <td>1.300000</td>\n",
       "      <td>46.450000</td>\n",
       "      <td>47.750000</td>\n",
       "      <td>-1.100000</td>\n",
       "      <td>-0.030000</td>\n",
       "      <td>20491.000000</td>\n",
       "    </tr>\n",
       "    <tr>\n",
       "      <th>75%</th>\n",
       "      <td>73.750000</td>\n",
       "      <td>15.000000</td>\n",
       "      <td>37.000000</td>\n",
       "      <td>17.000000</td>\n",
       "      <td>11.000000</td>\n",
       "      <td>17.00000</td>\n",
       "      <td>60.000000</td>\n",
       "      <td>59.000000</td>\n",
       "      <td>17.250000</td>\n",
       "      <td>61.750000</td>\n",
       "      <td>1.695000</td>\n",
       "      <td>55.550000</td>\n",
       "      <td>54.700000</td>\n",
       "      <td>12.800000</td>\n",
       "      <td>0.355000</td>\n",
       "      <td>32382.000000</td>\n",
       "    </tr>\n",
       "    <tr>\n",
       "      <th>max</th>\n",
       "      <td>98.000000</td>\n",
       "      <td>20.000000</td>\n",
       "      <td>37.000000</td>\n",
       "      <td>28.000000</td>\n",
       "      <td>16.000000</td>\n",
       "      <td>26.00000</td>\n",
       "      <td>97.000000</td>\n",
       "      <td>89.000000</td>\n",
       "      <td>72.000000</td>\n",
       "      <td>90.000000</td>\n",
       "      <td>2.430000</td>\n",
       "      <td>88.100000</td>\n",
       "      <td>73.300000</td>\n",
       "      <td>59.300000</td>\n",
       "      <td>1.600000</td>\n",
       "      <td>73150.000000</td>\n",
       "    </tr>\n",
       "  </tbody>\n",
       "</table>\n",
       "</div>"
      ],
      "text/plain": [
       "              Rk       LgRk         MP          W          D         L  \\\n",
       "count  98.000000  98.000000  98.000000  98.000000  98.000000  98.00000   \n",
       "mean   49.500000  10.316327  36.306122  13.448980   9.408163  13.44898   \n",
       "std    28.434134   5.706926   1.152390   5.747474   2.903381   5.12347   \n",
       "min     1.000000   1.000000  34.000000   3.000000   3.000000   2.00000   \n",
       "25%    25.250000   5.250000  36.000000   9.000000   7.000000  10.00000   \n",
       "50%    49.500000  10.000000  37.000000  13.000000   9.000000  13.00000   \n",
       "75%    73.750000  15.000000  37.000000  17.000000  11.000000  17.00000   \n",
       "max    98.000000  20.000000  37.000000  28.000000  16.000000  26.00000   \n",
       "\n",
       "              GF         GA         GD        Pts      Pts/G         xG  \\\n",
       "count  98.000000  98.000000  98.000000  98.000000  98.000000  98.000000   \n",
       "mean   50.877551  50.877551   0.000000  49.734694   1.370204  48.653061   \n",
       "std    16.102933  13.634602  26.501896  16.166371   0.443903  12.453950   \n",
       "min    23.000000  24.000000 -56.000000  18.000000   0.530000  28.200000   \n",
       "25%    39.000000  40.000000 -17.750000  37.000000   1.000000  39.100000   \n",
       "50%    47.000000  50.000000  -1.000000  46.000000   1.300000  46.450000   \n",
       "75%    60.000000  59.000000  17.250000  61.750000   1.695000  55.550000   \n",
       "max    97.000000  89.000000  72.000000  90.000000   2.430000  88.100000   \n",
       "\n",
       "             xGA        xGD     xGD/90    Attendance  \n",
       "count  98.000000  98.000000  98.000000     98.000000  \n",
       "mean   48.645918  -0.005102   0.000918  24239.857143  \n",
       "std     9.812481  19.992506   0.551414  14874.171842  \n",
       "min    26.800000 -40.400000  -1.090000   5870.000000  \n",
       "25%    41.300000 -13.575000  -0.365000  12355.500000  \n",
       "50%    47.750000  -1.100000  -0.030000  20491.000000  \n",
       "75%    54.700000  12.800000   0.355000  32382.000000  \n",
       "max    73.300000  59.300000   1.600000  73150.000000  "
      ]
     },
     "execution_count": 6,
     "metadata": {},
     "output_type": "execute_result"
    }
   ],
   "source": [
    "dataset_UEFA.describe()"
   ]
  },
  {
   "cell_type": "code",
   "execution_count": 7,
   "id": "d4de9c2f",
   "metadata": {},
   "outputs": [
    {
     "data": {
      "text/plain": [
       "Rk                   int64\n",
       "Squad               object\n",
       "Country             object\n",
       "LgRk                 int64\n",
       "MP                   int64\n",
       "W                    int64\n",
       "D                    int64\n",
       "L                    int64\n",
       "GF                   int64\n",
       "GA                   int64\n",
       "GD                   int64\n",
       "Pts                  int64\n",
       "Pts/G              float64\n",
       "xG                 float64\n",
       "xGA                float64\n",
       "xGD                float64\n",
       "xGD/90             float64\n",
       "Last 5              object\n",
       "Attendance           int64\n",
       "Top Team Scorer     object\n",
       "Goalkeeper          object\n",
       "dtype: object"
      ]
     },
     "execution_count": 7,
     "metadata": {},
     "output_type": "execute_result"
    }
   ],
   "source": [
    "dataset_UEFA.dtypes"
   ]
  },
  {
   "cell_type": "code",
   "execution_count": 8,
   "id": "5b30dcc1",
   "metadata": {},
   "outputs": [
    {
     "data": {
      "text/plain": [
       "'\\nRk = Rank\\nLgRk = League Rank\\nMP = Matches Played\\nW = Wins\\nD = Draws\\nL = Lost\\nGF = Goals in favour\\nGA = Goals against\\nGD = Goal difference, GF-GA\\nPts = Points\\nPts/G = Points per goal\\nxG = number of expected goals\\nxGA= number of expected goals against\\nxGD = difference in expected goals (in favour and against)\\nxGD/90 = difference in expected goals per each 90 minutes.\\nAttendance = people attending each match, in average\\n\\nNota: parte de la interpretación viene de leerse lo que sigue:  https://expectedscore.com/faq/how-to-use-the-xg-tables/\\n'"
      ]
     },
     "execution_count": 8,
     "metadata": {},
     "output_type": "execute_result"
    }
   ],
   "source": [
    "'''\n",
    "Rk = Rank\n",
    "LgRk = League Rank. Parece que esto realmente viene de ordenar según \"Pts/G\" (véase más abajo)\n",
    "MP = Matches Played\n",
    "W = Wins\n",
    "D = Draws\n",
    "L = Lost\n",
    "GF = Goals in favour\n",
    "GA = Goals against\n",
    "GD = Goal difference, GF-GA\n",
    "Pts = Points\n",
    "Pts/G = Points per goal\n",
    "xG = number of expected goals\n",
    "xGA= number of expected goals against\n",
    "xGD = difference in expected goals (in favour and against)\n",
    "xGD/90 = difference in expected goals per each 90 minutes.\n",
    "Attendance = people attending each match, in average\n",
    "\n",
    "Nota: parte de la interpretación viene de leerse lo que sigue:  https://expectedscore.com/faq/how-to-use-the-xg-tables/\n",
    "'''"
   ]
  },
  {
   "cell_type": "markdown",
   "id": "d0791286",
   "metadata": {},
   "source": [
    "En todo caso, si vamos a testar la normalidad de una variable, podemos ensayar alguno de los siguientes tests:\n",
    "* Shapiro-Wilk Test\n",
    "* D’Agostino’s K^2 Test\n",
    "* Anderson-Darling Test\n",
    "\n",
    "Tomemos, por ejemplo, el test de Shapiro-Wilk, y apliquémoslo a los goles a favor ('GF') de la lista de equipos."
   ]
  },
  {
   "cell_type": "markdown",
   "id": "e0c5f34c",
   "metadata": {},
   "source": [
    "En este caso no es necesario normalizar, en el sentido de que no cabe esperar interferencia de otras variables (no las habrá, en este test)."
   ]
  },
  {
   "cell_type": "code",
   "execution_count": 9,
   "id": "b49af9ff",
   "metadata": {},
   "outputs": [
    {
     "name": "stdout",
     "output_type": "stream",
     "text": [
      "stat=0.943, p=0.000\n",
      "Probably not Gaussian\n"
     ]
    }
   ],
   "source": [
    "# Test de normalidad de Shapiro-Wilk\n",
    "from scipy.stats import shapiro\n",
    "data = dataset_UEFA.GF\n",
    "stat, p = shapiro(data)\n",
    "print('stat=%.3f, p=%.3f' % (stat, p))\n",
    "if p > 0.05:  # Con nivel de significación 0,05: si p está por encima de 0,05 probablemente SÍ tenemos distribución gaussiana (a.k.a. normal).\n",
    " print('Probably Gaussian')\n",
    "else:\n",
    " print('Probably not Gaussian')  # Con nivel de significación 0,05: si p está por debajo de 0,05 probablemente NO tenemos distribución normal o gaussiana.\n",
    "# Nota: ejemplo adaptado de:  https://machinelearningmastery.com/statistical-hypothesis-tests-in-python-cheat-sheet/"
   ]
  },
  {
   "cell_type": "code",
   "execution_count": 19,
   "id": "7d665fb7",
   "metadata": {},
   "outputs": [
    {
     "data": {
      "text/plain": [
       "<Axes: xlabel='GF', ylabel='Count'>"
      ]
     },
     "execution_count": 19,
     "metadata": {},
     "output_type": "execute_result"
    },
    {
     "data": {
      "image/png": "[encoded data removed]",
      "text/plain": [
       "<Figure size 640x480 with 1 Axes>"
      ]
     },
     "metadata": {},
     "output_type": "display_data"
    }
   ],
   "source": [
    "sns.histplot(data=dataset_UEFA, x=\"GF\", binwidth=1, kde=True)   # https://seaborn.pydata.org/generated/seaborn.histplot.html"
   ]
  },
  {
   "cell_type": "markdown",
   "id": "e049a2cf",
   "metadata": {},
   "source": [
    "En efecto, la gráfica que vemos concuerda con el resultado del test de normalidad de Shapiro-Wilk. Claramente no se observa la típica forma de campana de la distribución normal. Casi recuerda al sombrero que en realidad era una boa que se comió un elefante (en la novela El Principito).\n",
    "\n",
    "De hecho, parece observarse un cierto \"skewness\" o sesgo hacia la derecha, si bien los datos parecen pocos para afirmar nada en ese sentido de forma taxativa."
   ]
  },
  {
   "cell_type": "markdown",
   "id": "3412b551",
   "metadata": {},
   "source": [
    "# Ejercicio 2"
   ]
  },
  {
   "cell_type": "markdown",
   "id": "4697bcf3",
   "metadata": {},
   "source": [
    "Con el mismo dataset, seleccionar otros dos atributos, calcular el p-valor, y decir si se rechaza la hipótesis nula o no, con un nivel de significación, alfa, del 5%."
   ]
  },
  {
   "cell_type": "markdown",
   "id": "88785f9a",
   "metadata": {},
   "source": [
    "Bueno, en este caso podríamos lanzar unan comparación entre dos atributos, el ranking en la liga ('LgRk') y el número de puntos por gol (que vendría a ser una medida de la eficiencia consiguiendo puntos), y comprobar si están correlacionados, lanzando un test de correlación."
   ]
  },
  {
   "cell_type": "code",
   "execution_count": 57,
   "id": "a8988597",
   "metadata": {},
   "outputs": [
    {
     "name": "stdout",
     "output_type": "stream",
     "text": [
      "stat=0.952, p=0.001\n",
      "Probably not Gaussian\n"
     ]
    }
   ],
   "source": [
    "data2 = dataset_UEFA['LgRk']\n",
    "stat2, p2 = shapiro(data2)\n",
    "print('stat=%.3f, p=%.3f' % (stat2, p2))\n",
    "if p2 > 0.05:  # Con nivel de significación 0,05: si p está por encima de 0,05 probablemente SÍ tenemos distribución gaussiana (a.k.a. normal).\n",
    " print('Probably Gaussian')\n",
    "else:\n",
    " print('Probably not Gaussian')  # Con nivel de significación 0,05: si p está por debajo de 0,05 probablemente NO tenemos distribución normal o gaussiana.\n",
    "# Nota: ejemplo adaptado de:  https://machinelearningmastery.com/statistical-hypothesis-tests-in-python-cheat-sheet/"
   ]
  },
  {
   "cell_type": "code",
   "execution_count": 70,
   "id": "4765c139",
   "metadata": {},
   "outputs": [
    {
     "name": "stdout",
     "output_type": "stream",
     "text": [
      "stat=0.972, p=0.035\n",
      "Probably not Gaussian\n"
     ]
    }
   ],
   "source": [
    "data1 = dataset_UEFA['Pts/G']\n",
    "stat1, p1 = shapiro(data1)\n",
    "print('stat=%.3f, p=%.3f' % (stat1, p1))\n",
    "if p1 > 0.05:  # Con nivel de significación 0,05: si p está por encima de 0,05 probablemente SÍ tenemos distribución gaussiana (a.k.a. normal).\n",
    " print('Probably Gaussian')\n",
    "else:\n",
    " print('Probably not Gaussian')  # Con nivel de significación 0,05: si p está por debajo de 0,05 probablemente NO tenemos distribución normal o gaussiana.\n",
    "# Nota: ejemplo adaptado de:  https://machinelearningmastery.com/statistical-hypothesis-tests-in-python-cheat-sheet/"
   ]
  },
  {
   "cell_type": "markdown",
   "id": "76c04741",
   "metadata": {},
   "source": [
    "Los tests dicen claramente que las dos variables elegidas no siguen una distribución normal. Habremos de usar un test alternativo a Pearson, por lo tanto. Alternativas podrían ser el Test de Correlación de Spearman, o bien el Test de Correlación de Kendall."
   ]
  },
  {
   "cell_type": "code",
   "execution_count": 75,
   "id": "6b13e2f4",
   "metadata": {},
   "outputs": [
    {
     "name": "stdout",
     "output_type": "stream",
     "text": [
      "stat=-0.988, p_value=0.000\n",
      "Con un nivel de significación de 0.05, hay una correlación significativa entre ranking en la liga y puntos obtenidos por cada gol.\n"
     ]
    }
   ],
   "source": [
    "# Coeficiente de correlación de Spearman y valor p\n",
    "stat, p_value = spearmanr(dataset_UEFA['Pts/G'], dataset_UEFA['LgRk'])\n",
    "\n",
    "print('stat=%.3f, p_value=%.3f' % (stat, p_value))\n",
    "\n",
    "if p_value < 0.05:  # Implica un nivel de significación de 0.05.\n",
    "    print('Con un nivel de significación de 0.05, hay una correlación significativa entre ranking en la liga y puntos obtenidos por cada gol.')\n",
    "else:\n",
    "    print('Con un nivel de significación del 0.05, no vemos hay una correlación significativa entre ranking en la liga y puntos obtenidos por cada gol.')"
   ]
  },
  {
   "cell_type": "markdown",
   "id": "f43fe6a5",
   "metadata": {},
   "source": [
    "Parece muy claro, en base a los números que hay correlación (el coeficiente de correlación es altísimo). Eso sí, es una correlación INVERSA. Veámoslo en una representación del ranking en la liga y el ranking UEFA:"
   ]
  },
  {
   "cell_type": "code",
   "execution_count": 82,
   "id": "61a57f5c",
   "metadata": {
    "scrolled": false
   },
   "outputs": [
    {
     "data": {
      "image/png": "[encoded data removed]",
      "text/plain": [
       "<Figure size 640x480 with 1 Axes>"
      ]
     },
     "metadata": {},
     "output_type": "display_data"
    }
   ],
   "source": [
    "#sns.scatterplot(data=tips, x=\"total_bill\", y=\"tip\")\n",
    "ax = sns.scatterplot(x = dataset_UEFA['Pts/G'], y= dataset_UEFA['LgRk'])\n",
    "\n",
    "ax.yaxis.set_major_formatter(ticker.FormatStrFormatter('%d'))\n",
    "ax.yaxis.set_major_locator(ticker.MultipleLocator(2))\n",
    "\n",
    "ax.xaxis.set_major_formatter(ticker.FormatStrFormatter('%.2f'))\n",
    "ax.xaxis.set_major_locator(ticker.MultipleLocator(0.1))\n",
    "\n",
    "ax.tick_params(axis='x', labelrotation = 45)\n",
    "\n",
    "ax.grid(True)\n",
    "\n",
    "plt.show()"
   ]
  },
  {
   "cell_type": "markdown",
   "id": "5e8c4e65",
   "metadata": {},
   "source": [
    "¿Qué significa lo que vemos?\n",
    "\n",
    "-Por un lado, que como más puntos por gol se logran, mejor clasificado en la liga (su liga nacional) está un equipo.\n",
    "-La parte central de la gráfica podríamos decir que aparenta visualmente ser cercana a lo lineal (podríamos hacer un sub-set de los datos para argumentarlo más, si conviniese).\n",
    "-Por otro lado, que en los extremos izquierdo y derecho tenemos sendos \"plateaus\", en los cuales varias décimas de variación en la variable \"Pts/G\" no representan ya apenas variación en el \"LgRk\". Tiene todo el sentido: no se puede tener en liga una posición mejor que la \"1\" (no se puede ser el \"0\" clasificado, ni el -1\" clasificado, por ejemplo), ni tampoco se puede tener una posición peor que la 20 (no se puede estar en la posición 21, 22, 23...).\n",
    "\n",
    "Esto nos muestra que por un lado, si un equipo rentabiliza poco los goles marcados (digamos, 0.80 puntos por gol marcado, o menos) puede ser que dé un poco igual qué más haga, porque casi está condenado a estar a la cola de su liga.\n",
    "Si nos fijamos en el otro extremo, podemos tener un equipo muy eficaz rentabilizando sus goles (por ejemplo, 2.00 puntos por gol marcado) y que eso resulte en una clasificación en liga tal, que incrementar esa eficiencia de puntos vs. goles ya no representa una ventaja en el ranking de la liga (porque ha dejado a sus adversarios tan atrás, que ya da igual)."
   ]
  },
  {
   "cell_type": "markdown",
   "id": "2a07e648",
   "metadata": {},
   "source": [
    "# Ejercicio 3"
   ]
  },
  {
   "cell_type": "markdown",
   "id": "5ad1eb7b",
   "metadata": {},
   "source": [
    "Continuar con el mismo conjunto de datos, seleccionar tres atributos, calcular el p-valor y decir si se rechaza la hipótesis nula tomando un alfa del 5%."
   ]
  },
  {
   "cell_type": "code",
   "execution_count": 13,
   "id": "19507d33",
   "metadata": {},
   "outputs": [
    {
     "data": {
      "text/html": [
       "<div>\n",
       "<style scoped>\n",
       "    .dataframe tbody tr th:only-of-type {\n",
       "        vertical-align: middle;\n",
       "    }\n",
       "\n",
       "    .dataframe tbody tr th {\n",
       "        vertical-align: top;\n",
       "    }\n",
       "\n",
       "    .dataframe thead th {\n",
       "        text-align: right;\n",
       "    }\n",
       "</style>\n",
       "<table border=\"1\" class=\"dataframe\">\n",
       "  <thead>\n",
       "    <tr style=\"text-align: right;\">\n",
       "      <th></th>\n",
       "      <th>Rk</th>\n",
       "      <th>Squad</th>\n",
       "      <th>Country</th>\n",
       "      <th>LgRk</th>\n",
       "      <th>MP</th>\n",
       "      <th>W</th>\n",
       "      <th>D</th>\n",
       "      <th>L</th>\n",
       "      <th>GF</th>\n",
       "      <th>GA</th>\n",
       "      <th>GD</th>\n",
       "      <th>Pts</th>\n",
       "      <th>Pts/G</th>\n",
       "      <th>xG</th>\n",
       "      <th>xGA</th>\n",
       "      <th>xGD</th>\n",
       "      <th>xGD/90</th>\n",
       "      <th>Last 5</th>\n",
       "      <th>Attendance</th>\n",
       "      <th>Top Team Scorer</th>\n",
       "      <th>Goalkeeper</th>\n",
       "    </tr>\n",
       "  </thead>\n",
       "  <tbody>\n",
       "    <tr>\n",
       "      <th>0</th>\n",
       "      <td>1</td>\n",
       "      <td>Manchester City</td>\n",
       "      <td>ENG</td>\n",
       "      <td>1</td>\n",
       "      <td>37</td>\n",
       "      <td>28</td>\n",
       "      <td>6</td>\n",
       "      <td>3</td>\n",
       "      <td>96</td>\n",
       "      <td>24</td>\n",
       "      <td>72</td>\n",
       "      <td>90</td>\n",
       "      <td>2.43</td>\n",
       "      <td>86.1</td>\n",
       "      <td>26.8</td>\n",
       "      <td>59.3</td>\n",
       "      <td>1.60</td>\n",
       "      <td>W W W W D</td>\n",
       "      <td>52739</td>\n",
       "      <td>Kevin De Bruyne - 15</td>\n",
       "      <td>Ederson</td>\n",
       "    </tr>\n",
       "    <tr>\n",
       "      <th>1</th>\n",
       "      <td>2</td>\n",
       "      <td>Liverpool</td>\n",
       "      <td>ENG</td>\n",
       "      <td>2</td>\n",
       "      <td>36</td>\n",
       "      <td>26</td>\n",
       "      <td>8</td>\n",
       "      <td>2</td>\n",
       "      <td>89</td>\n",
       "      <td>24</td>\n",
       "      <td>65</td>\n",
       "      <td>86</td>\n",
       "      <td>2.39</td>\n",
       "      <td>84.6</td>\n",
       "      <td>33.1</td>\n",
       "      <td>51.4</td>\n",
       "      <td>1.43</td>\n",
       "      <td>W W W D W</td>\n",
       "      <td>53367</td>\n",
       "      <td>Mohamed Salah - 22</td>\n",
       "      <td>Alisson</td>\n",
       "    </tr>\n",
       "  </tbody>\n",
       "</table>\n",
       "</div>"
      ],
      "text/plain": [
       "   Rk            Squad Country  LgRk  MP   W  D  L  GF  GA  GD  Pts  Pts/G  \\\n",
       "0   1  Manchester City     ENG     1  37  28  6  3  96  24  72   90   2.43   \n",
       "1   2        Liverpool     ENG     2  36  26  8  2  89  24  65   86   2.39   \n",
       "\n",
       "     xG   xGA   xGD  xGD/90     Last 5  Attendance       Top Team Scorer  \\\n",
       "0  86.1  26.8  59.3    1.60  W W W W D       52739  Kevin De Bruyne - 15   \n",
       "1  84.6  33.1  51.4    1.43  W W W D W       53367    Mohamed Salah - 22   \n",
       "\n",
       "  Goalkeeper  \n",
       "0    Ederson  \n",
       "1    Alisson  "
      ]
     },
     "execution_count": 13,
     "metadata": {},
     "output_type": "execute_result"
    }
   ],
   "source": [
    "dataset_UEFA[0:2]"
   ]
  },
  {
   "cell_type": "code",
   "execution_count": 14,
   "id": "fb31a6ce",
   "metadata": {},
   "outputs": [
    {
     "data": {
      "text/plain": [
       "array(['ENG', 'ESP', 'GER', 'FRA', 'ITA'], dtype=object)"
      ]
     },
     "execution_count": 14,
     "metadata": {},
     "output_type": "execute_result"
    }
   ],
   "source": [
    "dataset_UEFA.Country.unique()"
   ]
  },
  {
   "cell_type": "markdown",
   "id": "53032169",
   "metadata": {},
   "source": [
    "Para trabajar con tres atributos, podríamos plantearnos lo siguiente. Pongamos por caso que queremos comparar si hay diferencias significativas en cuanto a la asistencia media de público a los partidos de los equipos de tres países distintos. Por ejemplo, Inglaterra, Italia y España. Podríamos plicar un test ANOVA para determinar si hay diferencias entre estas tres -llamémosles- \"sub-variables\"."
   ]
  },
  {
   "cell_type": "code",
   "execution_count": 15,
   "id": "0e05dce1",
   "metadata": {},
   "outputs": [
    {
     "data": {
      "text/plain": [
       "39538.7"
      ]
     },
     "execution_count": 15,
     "metadata": {},
     "output_type": "execute_result"
    }
   ],
   "source": [
    "dataset_UEFA[dataset_UEFA['Country'] == 'ENG']['Attendance'].mean()"
   ]
  },
  {
   "cell_type": "code",
   "execution_count": 16,
   "id": "9e162801",
   "metadata": {},
   "outputs": [
    {
     "data": {
      "text/plain": [
       "17062.45"
      ]
     },
     "execution_count": 16,
     "metadata": {},
     "output_type": "execute_result"
    }
   ],
   "source": [
    "dataset_UEFA[dataset_UEFA['Country'] == 'ITA']['Attendance'].mean()"
   ]
  },
  {
   "cell_type": "code",
   "execution_count": 17,
   "id": "7e8b5c84",
   "metadata": {},
   "outputs": [
    {
     "data": {
      "text/plain": [
       "22937.6"
      ]
     },
     "execution_count": 17,
     "metadata": {},
     "output_type": "execute_result"
    }
   ],
   "source": [
    "dataset_UEFA[dataset_UEFA['Country'] == 'ESP']['Attendance'].mean()"
   ]
  },
  {
   "cell_type": "markdown",
   "id": "aa9727db",
   "metadata": {},
   "source": [
    "La diferencia de las medias es notable, en el caso de Inglaterra. ¿Cabe la posibilidad de que la diferencia se deba al azar? Hagamos un test ANOVA para determinarlo.\n",
    "\n",
    "Nuestra hipótesis nula será que los valores de público promedio en los partidos de esos países no tiene diferencias significativas, a nuestro nivel de significación (0.05).\n",
    "\n",
    "La hipótesis alternativa será que la media de público en los partidos de al menos uno de los países muestra diferencias significativas respecto de los otros (no nos dice qué diferencia, solamente que SÍ hay diferencia)."
   ]
  },
  {
   "cell_type": "code",
   "execution_count": 18,
   "id": "c5961c51",
   "metadata": {},
   "outputs": [
    {
     "name": "stdout",
     "output_type": "stream",
     "text": [
      "F-value: 13.937579649411049\n",
      "P-value: 1.1808268461153484e-05\n"
     ]
    }
   ],
   "source": [
    "# Público en los partidos de los diferentes equipos de estos tres países\n",
    "eng_attendance = dataset_UEFA[dataset_UEFA['Country'] == 'ENG']['Attendance']\n",
    "ita_attendance = dataset_UEFA[dataset_UEFA['Country'] == 'ITA']['Attendance']\n",
    "esp_attendance = dataset_UEFA[dataset_UEFA['Country'] == 'ESP']['Attendance']\n",
    "\n",
    "# Test ANOVA propiamente dicho\n",
    "f_value, p_value = stats.f_oneway(eng_attendance, ita_attendance, esp_attendance)\n",
    "\n",
    "print(\"F-value:\", f_value)\n",
    "print(\"P-value:\", p_value)"
   ]
  },
  {
   "cell_type": "markdown",
   "id": "251814f7",
   "metadata": {},
   "source": [
    "El estadístico F representa la variación de las medias entre los tres países, dividida entre la variación dentro de los valores de cada país concreto. Como mayor es F, mayor es la variación entre las medias de los países, comparada a la variación dentro de cada país.\n",
    "Si el estadístico F es alto, sugiere que hay diferencias significativas.\n",
    "\n",
    "El estadístico P es muy pequeño (mucho menor que 0.05), indicando que es muy improbable que las diferencias se deban al azar, es decir, que indica que sí hay diferencias entre el promedio de los tres países.\n",
    "\n",
    "Concluimos que las diferencias entre el público de los partidos de estos tres países sería rarísimos que suceda por azar. ¿Cuál será el motivo? Una hinchada más motivada en algún caso, estados más grandes... pero para eso, habría que seguir investigando por otros métodos."
   ]
  }
 ],
 "metadata": {
  "kernelspec": {
   "display_name": "Python 3 (ipykernel)",
   "language": "python",
   "name": "python3"
  },
  "language_info": {
   "codemirror_mode": {
    "name": "ipython",
    "version": 3
   },
   "file_extension": ".py",
   "mimetype": "text/x-python",
   "name": "python",
   "nbconvert_exporter": "python",
   "pygments_lexer": "ipython3",
   "version": "3.8.13"
  }
 },
 "nbformat": 4,
 "nbformat_minor": 5
}
